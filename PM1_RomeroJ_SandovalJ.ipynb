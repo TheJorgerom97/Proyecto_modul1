{
 "cells": [
  {
   "cell_type": "markdown",
   "metadata": {},
   "source": [
    " # Diseño de una Síntesis óptima.\n",
    "\n",
    "Se quiere realizar una síntesis de nanpartículas de plata de la manera menos costosa y produciendo la mayuor cantidad de nanoalambres posibles. Por lo que se quiere variar la cantidad de cada reactivo necesarios para cumplir con las cantidades minimas encontradas en artículo cientifíco en el que se basa la síntesis, con el fin de obtener un resultado óptimo. Los reactivos a utilizar son PVP, etilengilicol para ayudar a la síntesis, mientras que los proveedores de plata son el nitrato de plata y el cloruro de plata, para evitar una unión entre estos compuestos y obtener un resultado fallido se agregará hidroxido de sodi que se encargar de unirse con los iones correspondientes y evitar la formación de los compuestos iniciales. Los requisitos que se tienen es que para obtener 50 gramos de nanoalambres, se necesitan al menos 78.74 gramos de nitrato de plata en base del porcentaje que contiene este de plata, pero no más de 100 gramos para evitar una aglomeración de partículas y que estas no hagan nucleación. Además se encontro que se necesitan al menos 4635 gramos de etilengilicol y finalmente 156.972 gramos de PVP para conseguir la cantidad deseada de nanoalambres.\n",
    "\n",
    "Los porcentajes que contienen cada reactivo se pueden encontrar en la siguiente tabla:\n",
    "\n",
    "Reactivo|Plata|Cloro|Nitrato|Sodio|PVP|EG|\n",
    ":----|----|----|----|----|----|----\n",
    "Nitrato de plata ($AgNO_3$)|63.5%|0%|36.5%|0%|0%|0%\n",
    "Cloruro de plata ($AgCI$)|75.26%| 24.74%|0%|0%|0%|0%\n",
    "Hidroxido de Sodio ($NaOH$)|0%|0%|0%|57.48%|0%|0%\n",
    "PVP|  0%|0%|0%|0%|100%|0%\n",
    "Etilengilicol|0%|0%|0%|0%|0%|100%\n",
    "\n",
    "\n",
    "Los costos de cada reactivo son:\n",
    "\n",
    "Reactivo|Costo por gramo\n",
    ":----|----\n",
    "Nitrato de plata ($AgNO_3$)|$\\$$46\n",
    "Cloruro de plata ($AgCI$)|$\\$$28.89\n",
    "Hidroxido de Sodio ($NaOH$)|$\\$$0.4796\n",
    "PVP|$\\$$.0817|\n",
    "Etilengilicol|$\\$$.0225\n",
    "\n",
    "Las variables a utilizar se pueden representar por:\n",
    "\n",
    "+ $x_1:$ Gramos de Nitrato de plata ($AgNO_3$)  \n",
    "+ $x_2:$ Gramos de Cloruro de plata  \n",
    "+ $x_3:$ Gramos de Hidroxido de sodio\n",
    "+ $x_4:$ Gramos de PVP\n",
    "+ $x_5:$ Gramos de Etilengilicol"
   ]
  }
 ],
 "metadata": {
  "kernelspec": {
   "display_name": "Python 3",
   "language": "python",
   "name": "python3"
  },
  "language_info": {
   "codemirror_mode": {
    "name": "ipython",
    "version": 3
   },
   "file_extension": ".py",
   "mimetype": "text/x-python",
   "name": "python",
   "nbconvert_exporter": "python",
   "pygments_lexer": "ipython3",
   "version": "3.7.3"
  }
 },
 "nbformat": 4,
 "nbformat_minor": 2
}
