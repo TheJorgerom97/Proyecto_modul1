{
 "cells": [
  {
   "cell_type": "markdown",
   "metadata": {},
   "source": [
    " # Diseño de una Síntesis óptima.\n",
    "\n",
    "Se quiere realizar una síntesis de nanopartículas de plata de la manera menos costosa y produciendo la mayor cantidad de nanoalambres posibles. Por lo que se quiere variar la cantidad de cada reactivo necesario para cumplir con las cantidades mínimas encontradas en artículo cientifíco en el que se basa la síntesis, con el fin de obtener un resultado óptimo. \n De acuerdo con Yugang S. *et al* (2002) los reactivos a utilizar son PVP, etilenglicol y nitrato de plata. Sin embargo, para aminorar costos, se diseñará una síntesis añadiendo una segunda fuente de plata (cloruro de plata). Para evitar la formación de compuestos secundarios de plata, se añade hidróxido de sodio para buscar que la plata se encuentre sola y se obtenga la nucleación deseada de las nanopartículas.\n Al estar en solución, las sales de plata se ionizarán, el PVP encerrará a la plata para favorecer su nucleación y controlar tamaño, el sodio evitará que los nitratos y cloruros regresen con la plata mientras que el hidróxido mantendrá un pH alto para favorecer la formación de nanopartículas. Esto en un medio de etilenglicol. Para esto, se debe considerar que el sodio debe ser suficiente para reaccionar con nitratos y cloruros, y que, aunque el cloruro de plata sea una fuente de plata, para no afectar el rendimiento de la reacción reportado por Yugang *et al* (2002), el nitrato de plata debe ser agregado en mayor cantidad que el cloruro de plata.\n",
    "\n",
    "Los porcentajes que contienen cada reactivo se pueden encontrar en la siguiente tabla:\n",
    "\n",
    "Reactivo|Plata|Cloro|Nitrato|Sodio|PVP|EG|\n",
    ":----|----|----|----|----|----|----\n",
    "Nitrato de plata ($AgNO_3$)|63.5%|0%|36.5%|0%|0%|0%\n",
    "Cloruro de plata ($AgCI$)|75.26%| 24.74%|0%|0%|0%|0%\n",
    "Hidroxido de Sodio ($NaOH$)|0%|0%|0%|57.48%|0%|0%\n",
    "PVP|  0%|0%|0%|0%|100%|0%\n",
    "Etilengilicol|0%|0%|0%|0%|0%|100%\n",
    "\n",
    "\n",
    "Los costos de cada reactivo son:\n",
    "\n",
    "Reactivo|Costo por gramo\n",
    ":----|----\n",
    "Nitrato de plata ($AgNO_3$)|$\\$$46\n",
    "Cloruro de plata ($AgCI$)|$\\$$28.89\n",
    "Hidroxido de Sodio ($NaOH$)|$\\$$0.4796\n",
    "PVP|$\\$$.0817|\n",
    "Etilengilicol|$\\$$.0225\n",
    "\n",
    "Las variables a utilizar se pueden representar por:\n",
    "\n",
    "+ $x_1:$ Gramos de Nitrato de plata ($AgNO_3$)  \n",
    "+ $x_2:$ Gramos de Cloruro de plata  \n",
    "+ $x_3:$ Gramos de Hidroxido de sodio\n",
    "+ $x_4:$ Gramos de PVP\n",
    "+ $x_5:$ Gramos de Etilengilicol"
   ]
  },
  {
   "cell_type": "markdown",
   "metadata": {},
   "source": [
    "En base a los costos la función a optimizar es:\n",
    "\n",
    "$46x_1+26.89x_2+0.4796x_3+0.0817x_4+0.0225x_5$\n",
    "\n",
    "Mientras que las restricciones se representan con:\n",
    "\n",
    "$$.635x_1+.7526x_2 \\geq 50$$\n",
    "$$.2474x_1+.365x_2-.5748x_3 \\geq 0$$\n",
    "$$x_4 \\geq 156.972$$\n",
    "$$x_5 \\geq 4635$$\n",
    "$$x_1+x_2 \\leq 0$$"
   ]
  },
  {
   "cell_type": "code",
   "execution_count": null,
   "metadata": {},
   "outputs": [],
   "source": []
  },
  {
   "cell_type": "code",
   "execution_count": null,
   "metadata": {},
   "outputs": [],
   "source": []
  }
 ],
 "metadata": {
  "kernelspec": {
   "display_name": "Python 3",
   "language": "python",
   "name": "python3"
  },
  "language_info": {
   "codemirror_mode": {
    "name": "ipython",
    "version": 3
   },
   "file_extension": ".py",
   "mimetype": "text/x-python",
   "name": "python",
   "nbconvert_exporter": "python",
   "pygments_lexer": "ipython3",
   "version": "3.7.3"
  }
 },
 "nbformat": 4,
 "nbformat_minor": 2
}
