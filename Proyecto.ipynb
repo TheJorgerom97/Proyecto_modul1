{
 "cells": [
  {
   "cell_type": "markdown",
   "metadata": {},
   "source": [
    " Diseño de una Síntesis óptima.\n",
    "\n",
    "Se quiere realizar una síntesis de nanpartículas de plata de la manera menos costosa y produciendo la mayuor cantidad de nanoalambres posibles. Por lo que se quiere variar la cantidad de cada reactivo necesarios para cumplir con las cantidades minimas encontradas en artículo cientifíco en el que se basa la síntesis, con el fin de obtener un resultado óptimo. Los reactivos a utilizar son PVP, etilengilicol para ayudar a la síntesis, mientras que los proveedores de plata son el nitrato de plata y el cloruro de plata, para evitar una unión entre estos compuestos y obtener un resultado fallido se agregará hidroxido de sodi que se encargar de unirse con los iones correspondientes y evitar la formación de los compuestos iniciales. Los requisitos que se tienen es que para obtener 50 gramos de nanoalambres, se necesitan al menos 78.74 gramos de nitrato de plata en base del porcentaje que contiene este de plata, pero no más de 100 gramos para evitar una aglomeración de partículas y que estas no hagan nucleación. Además se encontro que se necesitan al menos 4635 gramos de etilengilicol y finalmente 156.972 gramos de PVP para conseguir la cantidad deseada de nanoalambres.\n",
    "\n",
    "Los porcentajes que contienen cada reactivo se pueden encontrar en la siguiente tabla:\n",
    "\n",
    "Reactivo|Plata|PVP|EG|Sodio|\n",
    ":----|----|----|----|----|\n",
    "Nitrato de plata ($AgNO_3$)|63.5%|0%|0%|0%|0%|\n",
    "Cloruro de plata ($AgCI$)|75.26% 0%|0%|0%|0%|\n",
    "Hidroxido de Sodio ($NaOH$)|0%|0%|57.48%|0%|\n",
    "PVP|  0%|100%|0%|0%|0%|\n",
    "Etilengilicol|0%|0%|100%|0%|0%|\n",
    "\n",
    "\n",
    "Los costos de cada reactivo son:\n",
    "\n",
    "Reactivo|Costo por gramo\n",
    ":----|----\n",
    "Nitrato de plata ($AgNO_3$)|$\\$$46\n",
    "Cloruro de plata ($AgCI$)|$\\$$28.89\n",
    "Hidroxido de Sodio ($NaOH$)|$\\$$0.4796\n",
    "PVP|$\\$$.0817|\n",
    "Etilengilicol|$\\$$.0225\n",
    "\n",
    "Las variables a utilizar se pueden representar por:\n",
    "\n",
    "+ $x_1:$ Gramos de Nitrato de plata ($AgNO_3$)  \n",
    "+ $x_2:$ Gramos de Cloruro de plata  \n",
    "+ $x_3:$ Gramos de Hidroxido de sodio\n",
    "+ $x_4:$ Gramos de PVP\n",
    "+ $x_5:$ Gramos de Etilengilicol\n",
    "\n",
    "En base a los costos la función a optimizar es:\n",
    "\n",
    "$46x_1+26.89x_2+0.4796x_3+0.0817x_4+0.0225x_5$\n",
    "\n",
    "Mientras que las restricciones se representan con:\n",
    "\n",
    "$$.635x_1+.7526x_2 \\geq 50$$\n",
    "$$-.2474x_1-.365x_2+.5748x_3 \\geq 0$$\n",
    "$$x_4 \\geq 156.972$$\n",
    "$$x_5 \\geq 4635$$\n",
    "\n"
   ]
  },
  {
   "cell_type": "code",
   "execution_count": 2,
   "metadata": {},
   "outputs": [],
   "source": [
    "import matplotlib.pyplot as plt\n",
    "%matplotlib inline\n",
    "\n",
    "import numpy as np \n",
    "import scipy.optimize as opt"
   ]
  },
  {
   "cell_type": "code",
   "execution_count": 14,
   "metadata": {},
   "outputs": [],
   "source": [
    "c=np.array([46,26.89,.4796,.0817,.0225])\n",
    "A_ub=np.array([[-.635,-.7526,0,0,0],\n",
    "               [-.2474,-.365,.5748,0,0],\n",
    "               [0,0,0,-1,0],\n",
    "               [0,0,0,0,-1]])\n",
    "b_ub=np.array([-50,0,-156.972,-4635])"
   ]
  },
  {
   "cell_type": "code",
   "execution_count": 16,
   "metadata": {},
   "outputs": [
    {
     "data": {
      "text/plain": [
       "array([4.600e+01, 2.689e+01, 4.796e-01, 8.170e-02, 2.250e-02])"
      ]
     },
     "execution_count": 16,
     "metadata": {},
     "output_type": "execute_result"
    }
   ],
   "source": [
    "c"
   ]
  },
  {
   "cell_type": "code",
   "execution_count": 17,
   "metadata": {},
   "outputs": [
    {
     "data": {
      "text/plain": [
       "array([[-0.635 , -0.7526,  0.    ,  0.    ,  0.    ],\n",
       "       [-0.2474, -0.365 ,  0.5748,  0.    ,  0.    ],\n",
       "       [ 0.    ,  0.    ,  0.    ,  1.    ,  0.    ],\n",
       "       [ 0.    ,  0.    ,  0.    ,  0.    ,  1.    ]])"
      ]
     },
     "execution_count": 17,
     "metadata": {},
     "output_type": "execute_result"
    }
   ],
   "source": [
    "A_ub"
   ]
  },
  {
   "cell_type": "code",
   "execution_count": 18,
   "metadata": {},
   "outputs": [
    {
     "data": {
      "text/plain": [
       "array([  -50.   ,     0.   ,  -156.972, -4635.   ])"
      ]
     },
     "execution_count": 18,
     "metadata": {},
     "output_type": "execute_result"
    }
   ],
   "source": [
    "b_ub"
   ]
  },
  {
   "cell_type": "code",
   "execution_count": 15,
   "metadata": {},
   "outputs": [
    {
     "data": {
      "text/plain": [
       "     con: array([], dtype=float64)\n",
       "     fun: 0.0\n",
       " message: 'The problem is (trivially) infeasible because a singleton row in the upper bound constraints is inconsistent with the bounds.'\n",
       "     nit: 0\n",
       "   slack: array([  -50.   ,     0.   ,  -156.972, -4635.   ])\n",
       "  status: 2\n",
       " success: False\n",
       "       x: array([0., 0., 0., 0., 0.])"
      ]
     },
     "execution_count": 15,
     "metadata": {},
     "output_type": "execute_result"
    }
   ],
   "source": [
    "solucion_sintesis=opt.linprog(c,A_ub,b_ub)\n",
    "solucion_sintesis"
   ]
  }
 ],
 "metadata": {
  "kernelspec": {
   "display_name": "Python 3",
   "language": "python",
   "name": "python3"
  },
  "language_info": {
   "codemirror_mode": {
    "name": "ipython",
    "version": 3
   },
   "file_extension": ".py",
   "mimetype": "text/x-python",
   "name": "python",
   "nbconvert_exporter": "python",
   "pygments_lexer": "ipython3",
   "version": "3.7.3"
  }
 },
 "nbformat": 4,
 "nbformat_minor": 2
}
